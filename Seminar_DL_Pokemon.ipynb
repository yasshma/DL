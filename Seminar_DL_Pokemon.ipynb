{
 "cells": [
  {
   "cell_type": "code",
   "execution_count": 1,
   "id": "87c3d669",
   "metadata": {},
   "outputs": [
    {
     "name": "stdout",
     "output_type": "stream",
     "text": [
      "Skipping, found downloaded files in \".\\pokemonclassification\" (use force=True to force download)\n"
     ]
    }
   ],
   "source": [
    "import opendatasets as od\n",
    "od.download(\"https://www.kaggle.com/datasets/lantian773030/pokemonclassification\")"
   ]
  },
  {
   "cell_type": "code",
   "execution_count": 16,
   "id": "a4e1d571",
   "metadata": {},
   "outputs": [
    {
     "name": "stdout",
     "output_type": "stream",
     "text": [
      "Requirement already satisfied: opendatasets in c:\\users\\stepan\\deep_learning\\lib\\site-packages (0.1.22)\n",
      "Requirement already satisfied: kaggle in c:\\users\\stepan\\deep_learning\\lib\\site-packages (from opendatasets) (1.5.12)\n",
      "Requirement already satisfied: click in c:\\users\\stepan\\deep_learning\\lib\\site-packages (from opendatasets) (8.1.3)\n",
      "Requirement already satisfied: tqdm in c:\\users\\stepan\\deep_learning\\lib\\site-packages (from opendatasets) (4.64.1)\n",
      "Requirement already satisfied: colorama in c:\\users\\stepan\\deep_learning\\lib\\site-packages (from click->opendatasets) (0.4.6)\n",
      "Requirement already satisfied: six>=1.10 in c:\\users\\stepan\\deep_learning\\lib\\site-packages (from kaggle->opendatasets) (1.16.0)\n",
      "Requirement already satisfied: certifi in c:\\users\\stepan\\deep_learning\\lib\\site-packages (from kaggle->opendatasets) (2022.9.24)\n",
      "Requirement already satisfied: python-dateutil in c:\\users\\stepan\\deep_learning\\lib\\site-packages (from kaggle->opendatasets) (2.8.2)\n",
      "Requirement already satisfied: requests in c:\\users\\stepan\\deep_learning\\lib\\site-packages (from kaggle->opendatasets) (2.28.1)\n",
      "Requirement already satisfied: python-slugify in c:\\users\\stepan\\deep_learning\\lib\\site-packages (from kaggle->opendatasets) (7.0.0)\n",
      "Requirement already satisfied: urllib3 in c:\\users\\stepan\\deep_learning\\lib\\site-packages (from kaggle->opendatasets) (1.26.12)\n",
      "Requirement already satisfied: text-unidecode>=1.3 in c:\\users\\stepan\\deep_learning\\lib\\site-packages (from python-slugify->kaggle->opendatasets) (1.3)\n",
      "Requirement already satisfied: idna<4,>=2.5 in c:\\users\\stepan\\deep_learning\\lib\\site-packages (from requests->kaggle->opendatasets) (3.4)\n",
      "Requirement already satisfied: charset-normalizer<3,>=2 in c:\\users\\stepan\\deep_learning\\lib\\site-packages (from requests->kaggle->opendatasets) (2.1.1)\n"
     ]
    },
    {
     "name": "stderr",
     "output_type": "stream",
     "text": [
      "WARNING: You are using pip version 22.0.4; however, version 22.3.1 is available.\n",
      "You should consider upgrading via the 'C:\\Users\\Stepan\\deep_learning\\Scripts\\python.exe -m pip install --upgrade pip' command.\n"
     ]
    }
   ],
   "source": [
    "!pip install opendatasets"
   ]
  },
  {
   "cell_type": "code",
   "execution_count": 16,
   "id": "fe1556e7",
   "metadata": {},
   "outputs": [],
   "source": []
  },
  {
   "cell_type": "code",
   "execution_count": 2,
   "id": "94b952f2",
   "metadata": {},
   "outputs": [],
   "source": [
    "import torch\n",
    "import torchvision.transforms as T\n",
    "from torch.utils.data import Dataset, DataLoader\n"
   ]
  },
  {
   "cell_type": "code",
   "execution_count": 3,
   "id": "1c64aa78",
   "metadata": {},
   "outputs": [
    {
     "data": {
      "text/plain": [
       "device(type='cpu')"
      ]
     },
     "execution_count": 3,
     "metadata": {},
     "output_type": "execute_result"
    }
   ],
   "source": [
    "device = torch.device('cuda:0' if torch.cuda.is_available() else 'cpu')\n",
    "device"
   ]
  },
  {
   "cell_type": "markdown",
   "id": "1fc3c99c",
   "metadata": {},
   "source": [
    "## Напишем свой класс dataseta"
   ]
  },
  {
   "cell_type": "code",
   "execution_count": 4,
   "id": "079e75c6",
   "metadata": {},
   "outputs": [],
   "source": [
    "#GPU занимается обучением\n",
    "#CPU готовит батчи ( аугментации применяет и все такое)\n",
    "#Подгрузка с диска ест много времени, попытамся ускорить, но тут это ваще не особо сработало\n",
    "#Предлагается подгрузить датасет в оперативную память load_to_ram"
   ]
  },
  {
   "cell_type": "code",
   "execution_count": 5,
   "id": "1c583656",
   "metadata": {},
   "outputs": [],
   "source": [
    "import os\n",
    "import shutil\n",
    "from PIL import Image #Будет загружать картинки \n",
    "from sklearn.model_selection import train_test_split\n",
    "from tqdm.notebook import tqdm\n",
    "\n",
    "class PokemonDataset(Dataset):\n",
    "    #Случайный split и размер testa\n",
    "    SPLIT_RANDOM_SEED = 42\n",
    "    TEST_SIZE = 0.25\n",
    "    #Нужно поделить картинки так, чтобы сохранялся баланс классов в train и test.\n",
    "    #Походимся по каждому классу и закидываем 75% в train, 25% в test\n",
    "    def __init__(self, root, train=True, load_to_ram=True, transform=None):\n",
    "        \n",
    "        super().__init__()\n",
    "        #root - папка PokemonDate\n",
    "        self.root = root\n",
    "        self.train = train\n",
    "        self.load_to_ram = load_to_ram #загрузить в оперативную память\n",
    "        self.transform = transform\n",
    "        self.all_files = [] #Для сохранения файлов\n",
    "        self.all_labels = []# Для сохранения меток\n",
    "        self.images = []\n",
    "        self.classes = sorted(os.listdir(self.root)) # отсортируем папки\n",
    "        \n",
    "        #прописывам total в tqdm так как enumerate - это генератор, а у него не определена длина, поэтому прогресс бар будет плакоть\n",
    "        for i, class_name in tqdm(enumerate(self.classes), total=len(self.classes)): \n",
    "            #os.path.join - функция которая умеет склеивать пути\n",
    "            files = sorted(os.listdir(os.path.join(self.root, class_name)))#отсортируем\n",
    "            #разобьем данные ( для каждогокласса свой RANDOM_SEED)\n",
    "            train_files, test_files = train_test_split(files, random_state=self.SPLIT_RANDOM_SEED + i, \n",
    "                                                      test_size=self.TEST_SIZE)\n",
    "            #Разделение на train и test (так чтобы сохранялся баланс классов)\n",
    "            if self.train:#Если мы в train передали True\n",
    "                self.all_files += train_files\n",
    "                self.all_labels += [i] * len(train_files)\n",
    "                if self.load_to_ram:\n",
    "                    self.images += self._load_images(train_files, i)\n",
    "            else:# если test\n",
    "                self.all_files += test_files\n",
    "                self.all_labels += [i] * len(test_files)\n",
    "                if self.load_to_ram:\n",
    "                    self.images += self._load_images(test_files, i)\n",
    "    \n",
    "    \n",
    "    def _load_images(self, image_files, label):# передаем в нее массив путей для картинок\n",
    "        images = []\n",
    "        for filename in image_files:\n",
    "            image = Image.open(os.path.join(self.root, self.classes[label], filename)).convert('RGB')\n",
    "            images += [image]\n",
    "           \n",
    "        return images\n",
    "    \n",
    "    \n",
    "    def __len__(self): #чтобы понимать сколько элементов в эпохе, чтобы dataloader понял когда закончить итерироваться\n",
    "        return len(self.all_files) \n",
    "    \n",
    "    \n",
    "    #будет возвращать картинку и метку, чтобы мы это в dataloader засунули, чтоб он батчи формировал и радовались жизни\n",
    "    def __getitem__(self, item):\n",
    "        filename = self.all_files[item]\n",
    "        label = self.all_labels[item]\n",
    "        if self.load_to_ram:\n",
    "            image = self.images[item]\n",
    "        else:\n",
    "            filename = self.all_files[item]\n",
    "            #Нужно соединить путь исходный, добавить сюда имя класса и добавить имя\n",
    "            image = Image.open(os.path.join(self.root, self.classes[label], filename)).convert('RGB')\n",
    "        #чтобы мы поддерживали аугументацию нада это \n",
    "        if self.transform is not None:\n",
    "            image = self.transform(image) \n",
    "        return image, label \n",
    "    #Получается в итоге dataloader формирует нам батчи, где первым элементом будет картинка (4-х мерный тензор),\n",
    "    #и Label (массив из меток)\n",
    "    \n",
    "    "
   ]
  },
  {
   "cell_type": "code",
   "execution_count": 6,
   "id": "73f3c121",
   "metadata": {},
   "outputs": [],
   "source": [
    "import glob \n",
    "bad_images = glob.glob('pokemonclassification/PokemonData/*/*.svg')"
   ]
  },
  {
   "cell_type": "code",
   "execution_count": 7,
   "id": "7dc18f64",
   "metadata": {},
   "outputs": [],
   "source": [
    "#эти картинки формата SVG все ломают\n",
    "for bad_image in bad_images:\n",
    "    os.remove(bad_image)"
   ]
  },
  {
   "cell_type": "code",
   "execution_count": 25,
   "id": "b99da903",
   "metadata": {},
   "outputs": [],
   "source": [
    "#train_dataset = PokemonDataset(root='pokemonclassification/PokemonData', train=True)"
   ]
  },
  {
   "cell_type": "code",
   "execution_count": 9,
   "id": "7e8f6bd1",
   "metadata": {},
   "outputs": [],
   "source": [
    "image, label = train_dataset[149]"
   ]
  },
  {
   "cell_type": "code",
   "execution_count": 10,
   "id": "acdebdc7",
   "metadata": {},
   "outputs": [
    {
     "data": {
      "image/png": "[encoded data removed]",
      "text/plain": [
       "<PIL.JpegImagePlugin.JpegImageFile image mode=RGB size=233x233>"
      ]
     },
     "execution_count": 10,
     "metadata": {},
     "output_type": "execute_result"
    }
   ],
   "source": [
    "image"
   ]
  },
  {
   "cell_type": "code",
   "execution_count": 12,
   "id": "6455f3f1",
   "metadata": {},
   "outputs": [
    {
     "data": {
      "text/plain": [
       "'Arcanine'"
      ]
     },
     "execution_count": 12,
     "metadata": {},
     "output_type": "execute_result"
    }
   ],
   "source": [
    "train_dataset.classes[label]"
   ]
  },
  {
   "cell_type": "code",
   "execution_count": 13,
   "id": "d400777f",
   "metadata": {},
   "outputs": [
    {
     "data": {
      "text/plain": [
       "5063"
      ]
     },
     "execution_count": 13,
     "metadata": {},
     "output_type": "execute_result"
    }
   ],
   "source": [
    "len(train_dataset)"
   ]
  },
  {
   "cell_type": "markdown",
   "id": "6ba7df29",
   "metadata": {},
   "source": [
    "#### В следующей ячейке описаны обучающие ( с аугментациями) и тестовы трансформмы ( без аугментаций) для картинок ( для ImageNeta)"
   ]
  },
  {
   "cell_type": "code",
   "execution_count": 8,
   "id": "0b501c2e",
   "metadata": {},
   "outputs": [],
   "source": [
    "import torch\n",
    "import torchvision.transforms as T\n",
    "from torch.utils.data import Dataset, DataLoader\n"
   ]
  },
  {
   "cell_type": "code",
   "execution_count": 9,
   "id": "003c41d5",
   "metadata": {},
   "outputs": [],
   "source": [
    "\n",
    "normalize = T.Normalize(mean=[0.485, 0.456, 0.406], std=[0.229, 0.224, 0.225])\n",
    "\n",
    "train_transform = T.Compose([\n",
    "    T.RandomResizedCrop(224),\n",
    "    T.RandomHorizontalFlip(),\n",
    "    T.ToTensor(),\n",
    "    normalize,\n",
    "])\n",
    "\n",
    "test_transform = T.Compose([\n",
    "    T.Resize(256),\n",
    "    T.CenterCrop(224),\n",
    "    T.ToTensor(),\n",
    "    normalize,\n",
    "])"
   ]
  },
  {
   "cell_type": "code",
   "execution_count": 10,
   "id": "1a014685",
   "metadata": {},
   "outputs": [
    {
     "data": {
      "application/vnd.jupyter.widget-view+json": {
       "model_id": "3a63a14854bf465c83ecf4f6e6b70c31",
       "version_major": 2,
       "version_minor": 0
      },
      "text/plain": [
       "  0%|          | 0/150 [00:00<?, ?it/s]"
      ]
     },
     "metadata": {},
     "output_type": "display_data"
    },
    {
     "data": {
      "application/vnd.jupyter.widget-view+json": {
       "model_id": "ac90a60e82d04bc0af3dfe9b4df661fd",
       "version_major": 2,
       "version_minor": 0
      },
      "text/plain": [
       "  0%|          | 0/150 [00:02<?, ?it/s]"
      ]
     },
     "metadata": {},
     "output_type": "display_data"
    }
   ],
   "source": [
    "train_dataset = PokemonDataset(root='pokemonclassification/PokemonData', train=True, load_to_ram=True, transform=test_transform)\n",
    "test_dataset = PokemonDataset(root='pokemonclassification/PokemonData', train=False, load_to_ram=True, transform=test_transform)"
   ]
  },
  {
   "cell_type": "code",
   "execution_count": 11,
   "id": "b6ef4155",
   "metadata": {},
   "outputs": [],
   "source": [
    "# с pin_memory = True - ускоряет обучение \n",
    "train_loader = DataLoader(train_dataset, batch_size=32, shuffle=True, pin_memory=True)\n",
    "test_loader = DataLoader(test_dataset, batch_size=32, shuffle=False, pin_memory=True)"
   ]
  },
  {
   "cell_type": "code",
   "execution_count": 12,
   "id": "12af79db",
   "metadata": {},
   "outputs": [],
   "source": [
    "import seaborn as sns\n",
    "import matplotlib.pyplot as plt\n",
    "from IPython.display import clear_output\n",
    "from tqdm.notebook import tqdm\n",
    "\n",
    "\n",
    "sns.set_style('whitegrid')\n",
    "plt.rcParams.update({'font.size': 15})\n",
    "\n",
    "def plot_losses(train_losses, test_losses, traon_accuracies, test_accuracies):\n",
    "    clear_output()\n",
    "    fig, axs = plt.subplots(1, 2, figsize=(13, 4))\n",
    "    axs[0].plot(range(1, len(train_losses) + 1), train_losses, label='train')\n",
    "    axs[0].plot(range(1, len(test_losses) + 1), test_losses, label='test')\n",
    "    axs[0].set_ylabel('loss')\n",
    "    axs[0].grid()\n",
    "    \n",
    "    axs[1].plot(range(1, len(train_accuracies) + 1), train_accuracies, label='train')\n",
    "    axs[1].plot(range(1, len(test_accuracies) + 1), test_accuracies, label='test')\n",
    "    axs[1].set_ylabel('accuracy')\n",
    "    axs[1].grid()\n",
    "    for ax in axs:\n",
    "        ax.set_xlabel('epoch')\n",
    "        ax.legend()\n",
    "    plt.show()"
   ]
  },
  {
   "cell_type": "code",
   "execution_count": 13,
   "id": "51d24ded",
   "metadata": {},
   "outputs": [],
   "source": [
    "def training_epoch(model, optimizer, criterion, train_loader, tqdm_desc):\n",
    "    train_loss, train_accuracy = 0.0, 0.0\n",
    "    model.train()\n",
    "    \n",
    "    for images, labels in tqdm(train_loader, desc=tqdm_desc):\n",
    "        images = images.to(device)# images: batch_size x num_channels x height x width\n",
    "        labels = labels.to(device)# labels: batch_size\n",
    "     \n",
    "        optimizer.zero_grad()\n",
    "        logits = model(images) # logits: batch_size x num_classes\n",
    "        loss = criterion(logits, labels)\n",
    "        loss.backward()\n",
    "        optimizer.step()\n",
    "    \n",
    "        train_loss += loss.item() * images.shape[0]\n",
    "        train_accuracy += (logits.argmax(dim=1) == labels).sum().item()\n",
    "\n",
    "    train_loss /= len(train_loader.dataset)\n",
    "    train_accuracy /= len(train_loader.dataset)\n",
    "    \n",
    "    return train_loss, train_accuracy\n",
    "\n",
    "\n",
    "\n",
    "@torch.no_grad()\n",
    "def validation_epoch(model, criterion, test_loader, tqdm_desc):\n",
    "    test_loss, test_accuracy = 0.0, 0.0\n",
    "    model.eval()\n",
    "    for images, labels in tqdm(test_loader, desc=tqdm_desc):\n",
    "        images = images.to(device)\n",
    "        labels = labels.to(device)\n",
    "        logits = model(images)\n",
    "        loss = criterion(logits, labels)\n",
    "        \n",
    "        test_loss += loss.item() * images.shape[0]\n",
    "        test_accuracy += (logits.argmax(dim=1) == labels).sum().item()\n",
    "        \n",
    "    test_loss /= len(test_loader.dataset)\n",
    "    test_accuracy /= len(test_loader.dataset)\n",
    "    return test_loss, test_accuracy\n",
    "\n",
    "\n",
    "def train(model, optimizer, scheduler, criterion, train_loader, test_loader, num_epochs):\n",
    "    train_losses, train_accuracies = [], []\n",
    "    test_losses, test_accuracies = [], []\n",
    "    \n",
    "    for epoch in range(1, num_epochs + 1):\n",
    "        train_loss, train_accuracy = training_epoch(model, optimizer, \n",
    "        criterion, train_loader, tqdm_desc=f'Training {epoch}/{num_epochs}'\n",
    "        )\n",
    "        \n",
    "        test_loss, test_accuracy = validation_epoch(model, criterion, test_loader,\n",
    "        tqdm_desc=f'Validation {epoch}/{num_epochs}')\n",
    "        \n",
    "        if scheduler is not None:\n",
    "            scheduler.step()\n",
    "        \n",
    "        train_losses += [train_loss]\n",
    "        train_accuracies += [train_accuracy]\n",
    "        test_losses += [test_loss]\n",
    "        test_accuracies += [test_accuracy]\n",
    "        \n",
    "        plot_losses(train_losses, test_losses, train_accuracies, test_accuracies)\n",
    "        \n",
    "    return train_losses, test_losses, train_accuracies, test_accuracies"
   ]
  },
  {
   "cell_type": "code",
   "execution_count": 14,
   "id": "6624c32e",
   "metadata": {},
   "outputs": [],
   "source": [
    "#Используем готовую архитектуру\n",
    "from torchvision.models import mobilenet_v2, MobileNet_V2_Weights\n",
    "num_epochs = 10  \n",
    "model = mobilenet_v2(num_classes=len(train_dataset.classes)).to(device)\n",
    "optimizer = torch.optim.SGD(model.parameters(), lr=0.01, momentum=0.9)\n",
    "criterion = torch.nn.CrossEntropyLoss()\n",
    "scheduler = torch.optim.lr_scheduler.CosineAnnealingLR(optimizer, num_epochs )"
   ]
  },
  {
   "cell_type": "code",
   "execution_count": 15,
   "id": "9bae4a77",
   "metadata": {},
   "outputs": [
    {
     "data": {
      "text/plain": [
       "2416022"
      ]
     },
     "execution_count": 15,
     "metadata": {},
     "output_type": "execute_result"
    }
   ],
   "source": [
    "#model\n",
    "#Так считаем число обучаемых параметров в модели\n",
    "sum(param.numel() for param in model.parameters())"
   ]
  },
  {
   "cell_type": "code",
   "execution_count": 16,
   "id": "4f666962",
   "metadata": {},
   "outputs": [
    {
     "data": {
      "application/vnd.jupyter.widget-view+json": {
       "model_id": "00aa5838b4164eb0ac18bc23ed9f0749",
       "version_major": 2,
       "version_minor": 0
      },
      "text/plain": [
       "Training 1/10:   0%|          | 0/159 [00:00<?, ?it/s]"
      ]
     },
     "metadata": {},
     "output_type": "display_data"
    },
    {
     "data": {
      "application/vnd.jupyter.widget-view+json": {
       "model_id": "f918cd8d7adc46119a39b79126b94af0",
       "version_major": 2,
       "version_minor": 0
      },
      "text/plain": [
       "Validation 1/10:   0%|          | 0/56 [00:03<?, ?it/s]"
      ]
     },
     "metadata": {},
     "output_type": "display_data"
    },
    {
     "ename": "NameError",
     "evalue": "name 'criterin' is not defined",
     "output_type": "error",
     "traceback": [
      "\u001b[1;31m---------------------------------------------------------------------------\u001b[0m",
      "\u001b[1;31mNameError\u001b[0m                                 Traceback (most recent call last)",
      "Cell \u001b[1;32mIn [16], line 1\u001b[0m\n\u001b[1;32m----> 1\u001b[0m train_losses, test_losses, train_accuracies, test_accuracies \u001b[38;5;241m=\u001b[39m \u001b[43mtrain\u001b[49m\u001b[43m(\u001b[49m\u001b[43mmodel\u001b[49m\u001b[43m,\u001b[49m\u001b[43m \u001b[49m\u001b[43moptimizer\u001b[49m\u001b[43m,\u001b[49m\u001b[43m \u001b[49m\u001b[43mscheduler\u001b[49m\u001b[43m,\u001b[49m\u001b[43m \u001b[49m\u001b[43mcriterion\u001b[49m\u001b[43m,\u001b[49m\u001b[43m \u001b[49m\u001b[43mtrain_loader\u001b[49m\u001b[43m,\u001b[49m\u001b[43m \u001b[49m\u001b[43mtest_loader\u001b[49m\u001b[43m,\u001b[49m\u001b[43m \u001b[49m\u001b[43mnum_epochs\u001b[49m\u001b[43m)\u001b[49m\n",
      "Cell \u001b[1;32mIn [13], line 52\u001b[0m, in \u001b[0;36mtrain\u001b[1;34m(model, optimizer, scheduler, criterion, train_loader, test_loader, num_epochs)\u001b[0m\n\u001b[0;32m     47\u001b[0m \u001b[38;5;28;01mfor\u001b[39;00m epoch \u001b[38;5;129;01min\u001b[39;00m \u001b[38;5;28mrange\u001b[39m(\u001b[38;5;241m1\u001b[39m, num_epochs \u001b[38;5;241m+\u001b[39m \u001b[38;5;241m1\u001b[39m):\n\u001b[0;32m     48\u001b[0m     train_loss, train_accuracy \u001b[38;5;241m=\u001b[39m training_epoch(model, optimizer, \n\u001b[0;32m     49\u001b[0m     criterion, train_loader, tqdm_desc\u001b[38;5;241m=\u001b[39m\u001b[38;5;124mf\u001b[39m\u001b[38;5;124m'\u001b[39m\u001b[38;5;124mTraining \u001b[39m\u001b[38;5;132;01m{\u001b[39;00mepoch\u001b[38;5;132;01m}\u001b[39;00m\u001b[38;5;124m/\u001b[39m\u001b[38;5;132;01m{\u001b[39;00mnum_epochs\u001b[38;5;132;01m}\u001b[39;00m\u001b[38;5;124m'\u001b[39m\n\u001b[0;32m     50\u001b[0m     )\n\u001b[1;32m---> 52\u001b[0m     test_loss, test_accuracy \u001b[38;5;241m=\u001b[39m \u001b[43mvalidation_epoch\u001b[49m\u001b[43m(\u001b[49m\u001b[43mmodel\u001b[49m\u001b[43m,\u001b[49m\u001b[43m \u001b[49m\u001b[43mcriterion\u001b[49m\u001b[43m,\u001b[49m\u001b[43m \u001b[49m\u001b[43mtest_loader\u001b[49m\u001b[43m,\u001b[49m\n\u001b[0;32m     53\u001b[0m \u001b[43m    \u001b[49m\u001b[43mtqdm_desc\u001b[49m\u001b[38;5;241;43m=\u001b[39;49m\u001b[38;5;124;43mf\u001b[39;49m\u001b[38;5;124;43m'\u001b[39;49m\u001b[38;5;124;43mValidation \u001b[39;49m\u001b[38;5;132;43;01m{\u001b[39;49;00m\u001b[43mepoch\u001b[49m\u001b[38;5;132;43;01m}\u001b[39;49;00m\u001b[38;5;124;43m/\u001b[39;49m\u001b[38;5;132;43;01m{\u001b[39;49;00m\u001b[43mnum_epochs\u001b[49m\u001b[38;5;132;43;01m}\u001b[39;49;00m\u001b[38;5;124;43m'\u001b[39;49m\u001b[43m)\u001b[49m\n\u001b[0;32m     55\u001b[0m     \u001b[38;5;28;01mif\u001b[39;00m scheduler \u001b[38;5;129;01mis\u001b[39;00m \u001b[38;5;129;01mnot\u001b[39;00m \u001b[38;5;28;01mNone\u001b[39;00m:\n\u001b[0;32m     56\u001b[0m         scheduler\u001b[38;5;241m.\u001b[39mstep()\n",
      "File \u001b[1;32m~\\deep_learning\\lib\\site-packages\\torch\\autograd\\grad_mode.py:27\u001b[0m, in \u001b[0;36m_DecoratorContextManager.__call__.<locals>.decorate_context\u001b[1;34m(*args, **kwargs)\u001b[0m\n\u001b[0;32m     24\u001b[0m \u001b[38;5;129m@functools\u001b[39m\u001b[38;5;241m.\u001b[39mwraps(func)\n\u001b[0;32m     25\u001b[0m \u001b[38;5;28;01mdef\u001b[39;00m \u001b[38;5;21mdecorate_context\u001b[39m(\u001b[38;5;241m*\u001b[39margs, \u001b[38;5;241m*\u001b[39m\u001b[38;5;241m*\u001b[39mkwargs):\n\u001b[0;32m     26\u001b[0m     \u001b[38;5;28;01mwith\u001b[39;00m \u001b[38;5;28mself\u001b[39m\u001b[38;5;241m.\u001b[39mclone():\n\u001b[1;32m---> 27\u001b[0m         \u001b[38;5;28;01mreturn\u001b[39;00m func(\u001b[38;5;241m*\u001b[39margs, \u001b[38;5;241m*\u001b[39m\u001b[38;5;241m*\u001b[39mkwargs)\n",
      "Cell \u001b[1;32mIn [13], line 33\u001b[0m, in \u001b[0;36mvalidation_epoch\u001b[1;34m(model, criterion, test_loader, tqdm_desc)\u001b[0m\n\u001b[0;32m     31\u001b[0m labels \u001b[38;5;241m=\u001b[39m labels\u001b[38;5;241m.\u001b[39mto(device)\n\u001b[0;32m     32\u001b[0m logits \u001b[38;5;241m=\u001b[39m model(images)\n\u001b[1;32m---> 33\u001b[0m loss \u001b[38;5;241m=\u001b[39m \u001b[43mcriterin\u001b[49m(logits, labels)\n\u001b[0;32m     35\u001b[0m test_loss \u001b[38;5;241m+\u001b[39m\u001b[38;5;241m=\u001b[39m loss\u001b[38;5;241m.\u001b[39mitem() \u001b[38;5;241m*\u001b[39m images\u001b[38;5;241m.\u001b[39mshape[\u001b[38;5;241m0\u001b[39m]\n\u001b[0;32m     36\u001b[0m test_accuracy \u001b[38;5;241m+\u001b[39m\u001b[38;5;241m=\u001b[39m (logits\u001b[38;5;241m.\u001b[39margmax(dim\u001b[38;5;241m=\u001b[39m\u001b[38;5;241m1\u001b[39m) \u001b[38;5;241m==\u001b[39m labels)\u001b[38;5;241m.\u001b[39msum()\u001b[38;5;241m.\u001b[39mitem()\n",
      "\u001b[1;31mNameError\u001b[0m: name 'criterin' is not defined"
     ]
    }
   ],
   "source": [
    "train_losses, test_losses, train_accuracies, test_accuracies = train(model, optimizer, scheduler, criterion, train_loader, test_loader, num_epochs)"
   ]
  },
  {
   "cell_type": "code",
   "execution_count": null,
   "id": "2b509010",
   "metadata": {},
   "outputs": [],
   "source": []
  }
 ],
 "metadata": {
  "kernelspec": {
   "display_name": "kernel_dl",
   "language": "python",
   "name": "kernel_dl"
  },
  "language_info": {
   "codemirror_mode": {
    "name": "ipython",
    "version": 3
   },
   "file_extension": ".py",
   "mimetype": "text/x-python",
   "name": "python",
   "nbconvert_exporter": "python",
   "pygments_lexer": "ipython3",
   "version": "3.10.3"
  }
 },
 "nbformat": 4,
 "nbformat_minor": 5
}
